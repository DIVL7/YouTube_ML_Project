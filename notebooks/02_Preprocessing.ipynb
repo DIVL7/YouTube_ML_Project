{
 "cells": [
  {
   "cell_type": "code",
   "execution_count": 1,
   "id": "1822c9e8",
   "metadata": {},
   "outputs": [],
   "source": [
    "from pathlib import Path\n",
    "import sys\n",
    "\n",
    "PROJECT_ROOT = Path(r\"C:\\Users\\luigu\\OneDrive\\Escritorio\\ProyectoML_YouTube\")\n",
    "sys.path.append(str(PROJECT_ROOT))\n",
    "\n",
    "DATA_PATH = PROJECT_ROOT / \"data\" / \"youtube_data.csv\"\n",
    "\n",
    "import pandas as pd\n",
    "import numpy as np\n",
    "import matplotlib.pyplot as plt\n",
    "\n",
    "from src.preprocessing import (\n",
    "    build_model_frame,\n",
    "    make_preprocessor_prepub,\n",
    "    make_preprocessor_unsupervised,\n",
    "    make_tfidf_only,\n",
    "    prepare_graph_for_greedy,\n",
    "    make_target_hit_er\n",
    ")"
   ]
  },
  {
   "cell_type": "code",
   "execution_count": 2,
   "id": "c7e09da9",
   "metadata": {},
   "outputs": [
    {
     "name": "stdout",
     "output_type": "stream",
     "text": [
      "Shape raw: (17589, 17) | Shape model-frame: (17589, 25)\n"
     ]
    },
    {
     "data": {
      "text/html": [
       "<div>\n",
       "<style scoped>\n",
       "    .dataframe tbody tr th:only-of-type {\n",
       "        vertical-align: middle;\n",
       "    }\n",
       "\n",
       "    .dataframe tbody tr th {\n",
       "        vertical-align: top;\n",
       "    }\n",
       "\n",
       "    .dataframe thead th {\n",
       "        text-align: right;\n",
       "    }\n",
       "</style>\n",
       "<table border=\"1\" class=\"dataframe\">\n",
       "  <thead>\n",
       "    <tr style=\"text-align: right;\">\n",
       "      <th></th>\n",
       "      <th>title</th>\n",
       "      <th>category</th>\n",
       "      <th>duration_sec</th>\n",
       "      <th>title_len</th>\n",
       "      <th>title_words</th>\n",
       "      <th>tag_count</th>\n",
       "    </tr>\n",
       "  </thead>\n",
       "  <tbody>\n",
       "    <tr>\n",
       "      <th>0</th>\n",
       "      <td>«السودان ينتفض» أمام السفارة بالقاهرة</td>\n",
       "      <td>News &amp; Politics</td>\n",
       "      <td>180.0</td>\n",
       "      <td>37</td>\n",
       "      <td>5</td>\n",
       "      <td>47</td>\n",
       "    </tr>\n",
       "    <tr>\n",
       "      <th>1</th>\n",
       "      <td>Pokemon Tower Defense   Episodio 2</td>\n",
       "      <td>Gaming</td>\n",
       "      <td>930.0</td>\n",
       "      <td>34</td>\n",
       "      <td>5</td>\n",
       "      <td>5</td>\n",
       "    </tr>\n",
       "    <tr>\n",
       "      <th>2</th>\n",
       "      <td>New Hip Hop - Kemo Treats - Pancakes</td>\n",
       "      <td>Comedy</td>\n",
       "      <td>233.0</td>\n",
       "      <td>36</td>\n",
       "      <td>8</td>\n",
       "      <td>37</td>\n",
       "    </tr>\n",
       "    <tr>\n",
       "      <th>3</th>\n",
       "      <td>Sister's Keeper Impression</td>\n",
       "      <td>People &amp; Blogs</td>\n",
       "      <td>562.0</td>\n",
       "      <td>26</td>\n",
       "      <td>3</td>\n",
       "      <td>6</td>\n",
       "    </tr>\n",
       "    <tr>\n",
       "      <th>4</th>\n",
       "      <td>JBHAMMER777 (AKUMA) VS KtossPol  Rank 1 (Vega)...</td>\n",
       "      <td>Gaming</td>\n",
       "      <td>300.0</td>\n",
       "      <td>76</td>\n",
       "      <td>14</td>\n",
       "      <td>55</td>\n",
       "    </tr>\n",
       "  </tbody>\n",
       "</table>\n",
       "</div>"
      ],
      "text/plain": [
       "                                               title         category  \\\n",
       "0              «السودان ينتفض» أمام السفارة بالقاهرة  News & Politics   \n",
       "1                 Pokemon Tower Defense   Episodio 2           Gaming   \n",
       "2               New Hip Hop - Kemo Treats - Pancakes           Comedy   \n",
       "3                         Sister's Keeper Impression   People & Blogs   \n",
       "4  JBHAMMER777 (AKUMA) VS KtossPol  Rank 1 (Vega)...           Gaming   \n",
       "\n",
       "   duration_sec  title_len  title_words  tag_count  \n",
       "0         180.0         37            5         47  \n",
       "1         930.0         34            5          5  \n",
       "2         233.0         36            8         37  \n",
       "3         562.0         26            3          6  \n",
       "4         300.0         76           14         55  "
      ]
     },
     "execution_count": 2,
     "metadata": {},
     "output_type": "execute_result"
    }
   ],
   "source": [
    "df_raw = pd.read_csv(DATA_PATH, low_memory=False)\n",
    "df = build_model_frame(df_raw)\n",
    "\n",
    "print(\"Shape raw:\", df_raw.shape, \"| Shape model-frame:\", df.shape)\n",
    "df[[\"title\",\"category\",\"duration_sec\",\"title_len\",\"title_words\",\"tag_count\"]].head(5)"
   ]
  },
  {
   "cell_type": "code",
   "execution_count": 3,
   "id": "4dd385c0",
   "metadata": {},
   "outputs": [
    {
     "data": {
      "text/plain": [
       "{'numericas': ['duration_sec', 'title_len', 'title_words', 'tag_count'],\n",
       " 'categoricas': ['category',\n",
       "  'duration_bucket',\n",
       "  'title_has_question',\n",
       "  'title_has_exclaim'],\n",
       " 'texto': ['title']}"
      ]
     },
     "execution_count": 3,
     "metadata": {},
     "output_type": "execute_result"
    }
   ],
   "source": [
    "# Preprocesador supervisado\n",
    "pre_sup, manifest = make_preprocessor_prepub(use_hashtags=False)\n",
    "manifest"
   ]
  },
  {
   "cell_type": "code",
   "execution_count": 4,
   "id": "45e73f45",
   "metadata": {},
   "outputs": [
    {
     "name": "stdout",
     "output_type": "stream",
     "text": [
      "X_sup shape: (17589, 2731) | tipo: <class 'scipy.sparse._csr.csr_matrix'>\n"
     ]
    }
   ],
   "source": [
    "# Ajuste/transformación\n",
    "X_sup = pre_sup.fit_transform(df)\n",
    "print(\"X_sup shape:\", X_sup.shape, \"| tipo:\", type(X_sup))"
   ]
  },
  {
   "cell_type": "code",
   "execution_count": 5,
   "id": "26c13dce",
   "metadata": {},
   "outputs": [
    {
     "data": {
      "text/plain": [
       "er\n",
       "0    0.898459\n",
       "1    0.101541\n",
       "Name: class_ratio, dtype: float64"
      ]
     },
     "execution_count": 5,
     "metadata": {},
     "output_type": "execute_result"
    }
   ],
   "source": [
    "y = make_target_hit_er(df, p=0.90)\n",
    "y.value_counts(normalize=True).rename(\"class_ratio\")"
   ]
  },
  {
   "cell_type": "code",
   "execution_count": 6,
   "id": "250909ee",
   "metadata": {},
   "outputs": [
    {
     "name": "stdout",
     "output_type": "stream",
     "text": [
      "X_unsup shape: (17589, 2731) | tipo: <class 'scipy.sparse._csr.csr_matrix'>\n"
     ]
    }
   ],
   "source": [
    "# Preprocesador para clustering (metadata + TF-IDF de título)\n",
    "pre_unsup = make_preprocessor_unsupervised(\n",
    "    include_numeric=True,\n",
    "    include_categorical=True,\n",
    "    include_title_tfidf=True,\n",
    "    include_hashtags_tfidf=False,\n",
    "    pca_components=None  \n",
    ")\n",
    "\n",
    "X_unsup = pre_unsup.fit_transform(df)\n",
    "print(\"X_unsup shape:\", X_unsup.shape, \"| tipo:\", type(X_unsup))"
   ]
  },
  {
   "cell_type": "code",
   "execution_count": 7,
   "id": "01688819",
   "metadata": {},
   "outputs": [
    {
     "name": "stderr",
     "output_type": "stream",
     "text": [
      "c:\\Users\\luigu\\anaconda3\\Lib\\site-packages\\joblib\\externals\\loky\\backend\\context.py:136: UserWarning: Could not find the number of physical cores for the following reason:\n",
      "[WinError 2] The system cannot find the file specified\n",
      "Returning the number of logical cores instead. You can silence this warning by setting LOKY_MAX_CPU_COUNT to the number of cores you want to use.\n",
      "  warnings.warn(\n",
      "  File \"c:\\Users\\luigu\\anaconda3\\Lib\\site-packages\\joblib\\externals\\loky\\backend\\context.py\", line 257, in _count_physical_cores\n",
      "    cpu_info = subprocess.run(\n",
      "        \"wmic CPU Get NumberOfCores /Format:csv\".split(),\n",
      "        capture_output=True,\n",
      "        text=True,\n",
      "    )\n",
      "  File \"c:\\Users\\luigu\\anaconda3\\Lib\\subprocess.py\", line 554, in run\n",
      "    with Popen(*popenargs, **kwargs) as process:\n",
      "         ~~~~~^^^^^^^^^^^^^^^^^^^^^^\n",
      "  File \"c:\\Users\\luigu\\anaconda3\\Lib\\subprocess.py\", line 1039, in __init__\n",
      "    self._execute_child(args, executable, preexec_fn, close_fds,\n",
      "    ~~~~~~~~~~~~~~~~~~~^^^^^^^^^^^^^^^^^^^^^^^^^^^^^^^^^^^^^^^^^\n",
      "                        pass_fds, cwd, env,\n",
      "                        ^^^^^^^^^^^^^^^^^^^\n",
      "    ...<5 lines>...\n",
      "                        gid, gids, uid, umask,\n",
      "                        ^^^^^^^^^^^^^^^^^^^^^^\n",
      "                        start_new_session, process_group)\n",
      "                        ^^^^^^^^^^^^^^^^^^^^^^^^^^^^^^^^^\n",
      "  File \"c:\\Users\\luigu\\anaconda3\\Lib\\subprocess.py\", line 1554, in _execute_child\n",
      "    hp, ht, pid, tid = _winapi.CreateProcess(executable, args,\n",
      "                       ~~~~~~~~~~~~~~~~~~~~~^^^^^^^^^^^^^^^^^^\n",
      "                             # no special security\n",
      "                             ^^^^^^^^^^^^^^^^^^^^^\n",
      "    ...<4 lines>...\n",
      "                             cwd,\n",
      "                             ^^^^\n",
      "                             startupinfo)\n",
      "                             ^^^^^^^^^^^^\n"
     ]
    },
    {
     "data": {
      "text/plain": [
       "0     182\n",
       "1    2820\n",
       "2    3355\n",
       "3     763\n",
       "4    4191\n",
       "5       3\n",
       "6    1641\n",
       "7    4634\n",
       "Name: count, dtype: int64"
      ]
     },
     "execution_count": 7,
     "metadata": {},
     "output_type": "execute_result"
    }
   ],
   "source": [
    "# K-Means rápido para verificar que la matriz sirve para clusterizar\n",
    "from sklearn.cluster import KMeans\n",
    "\n",
    "k = 8\n",
    "km = KMeans(n_clusters=k, n_init=10, random_state=42)\n",
    "labels_km = km.fit_predict(X_unsup)\n",
    "\n",
    "pd.Series(labels_km).value_counts().sort_index()"
   ]
  },
  {
   "cell_type": "code",
   "execution_count": 8,
   "id": "62c904b4",
   "metadata": {},
   "outputs": [
    {
     "data": {
      "text/plain": [
       "0    14144\n",
       "1      386\n",
       "2      933\n",
       "3      827\n",
       "4      601\n",
       "5      325\n",
       "6      273\n",
       "7      100\n",
       "Name: count, dtype: int64"
      ]
     },
     "execution_count": 8,
     "metadata": {},
     "output_type": "execute_result"
    }
   ],
   "source": [
    "# K-Means solo con TF-IDF de títulos\n",
    "vec = make_tfidf_only(column=\"title\", min_df=5, ngram_range=(1,2))\n",
    "X_tfidf = vec.fit_transform(df[\"title\"].fillna(\"\").astype(str))\n",
    "\n",
    "km2 = KMeans(n_clusters=8, n_init=10, random_state=42)\n",
    "labels_km2 = km2.fit_predict(X_tfidf)\n",
    "\n",
    "pd.Series(labels_km2).value_counts().sort_index()"
   ]
  },
  {
   "cell_type": "code",
   "execution_count": null,
   "id": "f8ce334a",
   "metadata": {},
   "outputs": [
    {
     "data": {
      "text/plain": [
       "(201348,\n",
       " [(1, 7440, 0.5776657280893153),\n",
       "  (1, 8329, 0.5165201695660847),\n",
       "  (1, 14140, 0.5165201695660847),\n",
       "  (1, 3142, 0.5165201695660847),\n",
       "  (1, 11583, 0.43045497113940256)])"
      ]
     },
     "execution_count": 9,
     "metadata": {},
     "output_type": "execute_result"
    }
   ],
   "source": [
    "# Construye edges del grafo (kNN en coseno) desde TF-IDF de títulos\n",
    "edges, idx_map = prepare_graph_for_greedy(\n",
    "    df=df,\n",
    "    text_col=\"title\",\n",
    "    min_df=5,\n",
    "    ngram_range=(1,2),\n",
    "    k=15,              # vecinos por nodo\n",
    "    sim_threshold=0.2  # umbral mínimo de similitud para crear aristas\n",
    ")\n",
    "\n",
    "len(edges), list(edges)[:5]"
   ]
  },
  {
   "cell_type": "code",
   "execution_count": 10,
   "id": "3131ddb4",
   "metadata": {},
   "outputs": [
    {
     "name": "stdout",
     "output_type": "stream",
     "text": [
      "#Comunidades: 3527 | Modularity Q: 0.666\n"
     ]
    },
    {
     "data": {
      "text/plain": [
       "[4023, 2246, 1961, 1630, 705, 606, 511, 436, 188, 181]"
      ]
     },
     "execution_count": 10,
     "metadata": {},
     "output_type": "execute_result"
    }
   ],
   "source": [
    "# Greedy Modularity\n",
    "import networkx as nx\n",
    "from networkx.algorithms.community import greedy_modularity_communities, modularity\n",
    "\n",
    "G = nx.Graph()\n",
    "G.add_nodes_from(range(len(df)))\n",
    "for i, j, w in edges:\n",
    "    G.add_edge(i, j, weight=w)\n",
    "\n",
    "comms = list(greedy_modularity_communities(G, weight=\"weight\"))\n",
    "Q = modularity(G, comms, weight=\"weight\")\n",
    "\n",
    "print(f\"#Comunidades: {len(comms)} | Modularity Q: {Q:.3f}\")\n",
    "# Vista rápida del tamaño de las primeras comunidades\n",
    "sorted([len(c) for c in comms], reverse=True)[:10]"
   ]
  },
  {
   "cell_type": "code",
   "execution_count": 11,
   "id": "4a434a12",
   "metadata": {},
   "outputs": [
    {
     "name": "stdout",
     "output_type": "stream",
     "text": [
      "Probs sample: [0.3359413  0.22637526 0.25152632 0.47635937 0.61859327 0.43622538\n",
      " 0.34007941 0.55724238 0.43941374 0.25594   ]\n"
     ]
    }
   ],
   "source": [
    "# Verificación end-to-end (sin métricas aún): pipeline + LogReg en un split pequeño\n",
    "from sklearn.model_selection import train_test_split\n",
    "from sklearn.linear_model import LogisticRegression\n",
    "from sklearn.pipeline import Pipeline\n",
    "\n",
    "# Usamos el preprocesador supervisado y un modelo sencillo\n",
    "X_train, X_test, y_train, y_test = train_test_split(df, y, test_size=0.2, stratify=y, random_state=42)\n",
    "\n",
    "clf = Pipeline([(\"pre\", pre_sup), (\"logreg\", LogisticRegression(max_iter=200, class_weight=\"balanced\"))])\n",
    "clf.fit(X_train, y_train)\n",
    "\n",
    "probs = clf.predict_proba(X_test)[:,1]\n",
    "print(\"Probs sample:\", probs[:10])"
   ]
  }
 ],
 "metadata": {
  "kernelspec": {
   "display_name": "base",
   "language": "python",
   "name": "python3"
  },
  "language_info": {
   "codemirror_mode": {
    "name": "ipython",
    "version": 3
   },
   "file_extension": ".py",
   "mimetype": "text/x-python",
   "name": "python",
   "nbconvert_exporter": "python",
   "pygments_lexer": "ipython3",
   "version": "3.13.5"
  }
 },
 "nbformat": 4,
 "nbformat_minor": 5
}
